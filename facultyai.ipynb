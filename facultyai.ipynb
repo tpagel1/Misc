{
 "cells": [
  {
   "cell_type": "markdown",
   "id": "attempted-launch",
   "metadata": {},
   "source": [
    "# Section 1"
   ]
  },
  {
   "cell_type": "markdown",
   "id": "designing-anxiety",
   "metadata": {},
   "source": [
    "In this section I will examine the data and create some plots, to get a visual look at the variables and their relationship with outcome."
   ]
  },
  {
   "cell_type": "markdown",
   "id": "arabic-defensive",
   "metadata": {},
   "source": [
    "### Imports and Data inspection"
   ]
  },
  {
   "cell_type": "code",
   "execution_count": 1,
   "id": "experienced-cookie",
   "metadata": {},
   "outputs": [
    {
     "data": {
      "text/html": [
       "<div>\n",
       "<style scoped>\n",
       "    .dataframe tbody tr th:only-of-type {\n",
       "        vertical-align: middle;\n",
       "    }\n",
       "\n",
       "    .dataframe tbody tr th {\n",
       "        vertical-align: top;\n",
       "    }\n",
       "\n",
       "    .dataframe thead th {\n",
       "        text-align: right;\n",
       "    }\n",
       "</style>\n",
       "<table border=\"1\" class=\"dataframe\">\n",
       "  <thead>\n",
       "    <tr style=\"text-align: right;\">\n",
       "      <th></th>\n",
       "      <th>id</th>\n",
       "      <th>age</th>\n",
       "      <th>gender</th>\n",
       "      <th>race</th>\n",
       "      <th>driving_experience</th>\n",
       "      <th>education</th>\n",
       "      <th>income</th>\n",
       "      <th>credit_score</th>\n",
       "      <th>vehicle_ownership</th>\n",
       "      <th>vehicle_year</th>\n",
       "      <th>...</th>\n",
       "      <th>children</th>\n",
       "      <th>postal_code</th>\n",
       "      <th>annual_mileage</th>\n",
       "      <th>vehicle_type</th>\n",
       "      <th>speeding_violations</th>\n",
       "      <th>DUIs</th>\n",
       "      <th>past_accidents</th>\n",
       "      <th>outcome</th>\n",
       "      <th>telematic_score</th>\n",
       "      <th>monthly_mileage</th>\n",
       "    </tr>\n",
       "  </thead>\n",
       "  <tbody>\n",
       "    <tr>\n",
       "      <th>0</th>\n",
       "      <td>569520</td>\n",
       "      <td>65+</td>\n",
       "      <td>female</td>\n",
       "      <td>majority</td>\n",
       "      <td>0-9y</td>\n",
       "      <td>high school</td>\n",
       "      <td>high</td>\n",
       "      <td>0.629027</td>\n",
       "      <td>True</td>\n",
       "      <td>after 2015</td>\n",
       "      <td>...</td>\n",
       "      <td>True</td>\n",
       "      <td>10238</td>\n",
       "      <td>12000.0</td>\n",
       "      <td>sedan</td>\n",
       "      <td>0</td>\n",
       "      <td>0</td>\n",
       "      <td>0</td>\n",
       "      <td>False</td>\n",
       "      <td>37.454012</td>\n",
       "      <td>1000.000000</td>\n",
       "    </tr>\n",
       "    <tr>\n",
       "      <th>1</th>\n",
       "      <td>750365</td>\n",
       "      <td>16-25</td>\n",
       "      <td>male</td>\n",
       "      <td>majority</td>\n",
       "      <td>0-9y</td>\n",
       "      <td>none</td>\n",
       "      <td>very low</td>\n",
       "      <td>0.357757</td>\n",
       "      <td>False</td>\n",
       "      <td>before 2015</td>\n",
       "      <td>...</td>\n",
       "      <td>False</td>\n",
       "      <td>10238</td>\n",
       "      <td>16000.0</td>\n",
       "      <td>sedan</td>\n",
       "      <td>0</td>\n",
       "      <td>0</td>\n",
       "      <td>0</td>\n",
       "      <td>True</td>\n",
       "      <td>95.071431</td>\n",
       "      <td>1333.333333</td>\n",
       "    </tr>\n",
       "    <tr>\n",
       "      <th>2</th>\n",
       "      <td>199901</td>\n",
       "      <td>16-25</td>\n",
       "      <td>female</td>\n",
       "      <td>majority</td>\n",
       "      <td>0-9y</td>\n",
       "      <td>high school</td>\n",
       "      <td>low</td>\n",
       "      <td>0.493146</td>\n",
       "      <td>True</td>\n",
       "      <td>before 2015</td>\n",
       "      <td>...</td>\n",
       "      <td>False</td>\n",
       "      <td>10238</td>\n",
       "      <td>11000.0</td>\n",
       "      <td>sedan</td>\n",
       "      <td>0</td>\n",
       "      <td>0</td>\n",
       "      <td>0</td>\n",
       "      <td>False</td>\n",
       "      <td>73.199394</td>\n",
       "      <td>916.666667</td>\n",
       "    </tr>\n",
       "    <tr>\n",
       "      <th>3</th>\n",
       "      <td>478866</td>\n",
       "      <td>16-25</td>\n",
       "      <td>male</td>\n",
       "      <td>majority</td>\n",
       "      <td>0-9y</td>\n",
       "      <td>university</td>\n",
       "      <td>low</td>\n",
       "      <td>0.206013</td>\n",
       "      <td>True</td>\n",
       "      <td>before 2015</td>\n",
       "      <td>...</td>\n",
       "      <td>True</td>\n",
       "      <td>32765</td>\n",
       "      <td>11000.0</td>\n",
       "      <td>sedan</td>\n",
       "      <td>0</td>\n",
       "      <td>0</td>\n",
       "      <td>0</td>\n",
       "      <td>False</td>\n",
       "      <td>59.865848</td>\n",
       "      <td>916.666667</td>\n",
       "    </tr>\n",
       "    <tr>\n",
       "      <th>4</th>\n",
       "      <td>731664</td>\n",
       "      <td>26-39</td>\n",
       "      <td>male</td>\n",
       "      <td>majority</td>\n",
       "      <td>10-19y</td>\n",
       "      <td>none</td>\n",
       "      <td>low</td>\n",
       "      <td>0.388366</td>\n",
       "      <td>True</td>\n",
       "      <td>before 2015</td>\n",
       "      <td>...</td>\n",
       "      <td>False</td>\n",
       "      <td>32765</td>\n",
       "      <td>12000.0</td>\n",
       "      <td>sedan</td>\n",
       "      <td>2</td>\n",
       "      <td>0</td>\n",
       "      <td>1</td>\n",
       "      <td>True</td>\n",
       "      <td>15.601864</td>\n",
       "      <td>1000.000000</td>\n",
       "    </tr>\n",
       "  </tbody>\n",
       "</table>\n",
       "<p>5 rows × 21 columns</p>\n",
       "</div>"
      ],
      "text/plain": [
       "       id    age  gender      race driving_experience    education    income  \\\n",
       "0  569520    65+  female  majority               0-9y  high school      high   \n",
       "1  750365  16-25    male  majority               0-9y         none  very low   \n",
       "2  199901  16-25  female  majority               0-9y  high school       low   \n",
       "3  478866  16-25    male  majority               0-9y   university       low   \n",
       "4  731664  26-39    male  majority             10-19y         none       low   \n",
       "\n",
       "   credit_score  vehicle_ownership vehicle_year  ...  children  postal_code  \\\n",
       "0      0.629027               True   after 2015  ...      True        10238   \n",
       "1      0.357757              False  before 2015  ...     False        10238   \n",
       "2      0.493146               True  before 2015  ...     False        10238   \n",
       "3      0.206013               True  before 2015  ...      True        32765   \n",
       "4      0.388366               True  before 2015  ...     False        32765   \n",
       "\n",
       "   annual_mileage  vehicle_type speeding_violations  DUIs  past_accidents  \\\n",
       "0         12000.0         sedan                   0     0               0   \n",
       "1         16000.0         sedan                   0     0               0   \n",
       "2         11000.0         sedan                   0     0               0   \n",
       "3         11000.0         sedan                   0     0               0   \n",
       "4         12000.0         sedan                   2     0               1   \n",
       "\n",
       "   outcome  telematic_score  monthly_mileage  \n",
       "0    False        37.454012      1000.000000  \n",
       "1     True        95.071431      1333.333333  \n",
       "2    False        73.199394       916.666667  \n",
       "3    False        59.865848       916.666667  \n",
       "4     True        15.601864      1000.000000  \n",
       "\n",
       "[5 rows x 21 columns]"
      ]
     },
     "execution_count": 1,
     "metadata": {},
     "output_type": "execute_result"
    }
   ],
   "source": [
    "import pandas as pd\n",
    "import numpy as np\n",
    "import matplotlib.pyplot as plt\n",
    "import matplotlib.patches as mpatches\n",
    "from sklearn.preprocessing import LabelEncoder\n",
    "import csv\n",
    "    \n",
    "df = pd.read_csv(\"customer-data-20210628.csv\")   \n",
    "df.head()\n"
   ]
  },
  {
   "cell_type": "code",
   "execution_count": 2,
   "id": "subject-triangle",
   "metadata": {},
   "outputs": [
    {
     "data": {
      "text/plain": [
       "count     10000\n",
       "unique        2\n",
       "top       False\n",
       "freq       6867\n",
       "Name: outcome, dtype: object"
      ]
     },
     "execution_count": 2,
     "metadata": {},
     "output_type": "execute_result"
    }
   ],
   "source": [
    "df['outcome'].describe()"
   ]
  },
  {
   "cell_type": "markdown",
   "id": "moderate-doctrine",
   "metadata": {},
   "source": [
    "### 1.1 Proportion\n",
    "\n",
    "What proportion of customers with a credit score below 0.2 made a claim in the last year?"
   ]
  },
  {
   "cell_type": "code",
   "execution_count": 3,
   "id": "potential-factory",
   "metadata": {},
   "outputs": [
    {
     "name": "stdout",
     "output_type": "stream",
     "text": [
      "Total customers with credit score below 0.2:  98\n",
      "The proportion of customers with a credit score below 0.2 who made a claim in the last year:  0.6020408163265306\n"
     ]
    }
   ],
   "source": [
    "count = 0\n",
    "tot = 0\n",
    "\n",
    "for index, row in df.iterrows():\n",
    "    if row[\"credit_score\"] < 0.2:\n",
    "        tot += 1\n",
    "        if row[\"outcome\"] == True:\n",
    "            count += 1\n",
    "\n",
    "proportion = count/tot\n",
    "print(\"Total customers with credit score below 0.2: \", tot)\n",
    "print(\"The proportion of customers with a credit score below 0.2 who made a claim in the last year: \", proportion)"
   ]
  },
  {
   "cell_type": "markdown",
   "id": "fatal-default",
   "metadata": {},
   "source": [
    "### 1.2 Plots\n",
    "\n",
    "Produce a maximum of 3 plots to help the client understand their data better. Explain what the plots show/any insight they provide the client about their data."
   ]
  },
  {
   "cell_type": "markdown",
   "id": "peripheral-reduction",
   "metadata": {},
   "source": [
    "### Function Library"
   ]
  },
  {
   "cell_type": "code",
   "execution_count": 4,
   "id": "computational-oregon",
   "metadata": {},
   "outputs": [],
   "source": [
    "# Transforms variable into categorical with a set number of categories (bins).\n",
    "def categorise(variable, n_bins, df):\n",
    "    label_encoder = LabelEncoder()\n",
    "    y = label_encoder.fit_transform(pd.cut(df[variable], n_bins, retbins=True)[0])\n",
    "    del df[variable]\n",
    "    df.insert(0, variable, y)\n",
    "    \n",
    "    \n",
    "# Creates and returns a Hash with the frequency of those who claimed and those who didn't for a variable.\n",
    "def createFreqHash(varString):\n",
    "    varHash = {}\n",
    "    for index, row in df.iterrows():\n",
    "        var = row[varString]\n",
    "        if var in varHash.keys():\n",
    "            if row['outcome'] == True:\n",
    "                varHash[var]['claim'] += 1\n",
    "            else:\n",
    "                varHash[var]['noClaim'] += 1\n",
    "        else:\n",
    "            if row['outcome'] == True:\n",
    "                varHash[var] = {}\n",
    "                varHash[var]['claim'] = 1\n",
    "                varHash[var]['noClaim'] = 0\n",
    "            else:\n",
    "                varHash[var] = {}\n",
    "                varHash[var]['claim'] = 0\n",
    "                varHash[var]['noClaim'] = 1 \n",
    "    \n",
    "    return varHash\n",
    "\n",
    "\n",
    "# Creates and shows a double barchart for one variable grouped by outcome.\n",
    "def claimDoubleBarchart(xlabels, xAxis, title, varHash):\n",
    "    claim = []\n",
    "    noClaim = []\n",
    "    for i in xlabels:\n",
    "        claim.append(varHash[i]['claim'])\n",
    "        noClaim.append(varHash[i]['noClaim'])\n",
    "\n",
    "    X_axis = np.arange(len(xlabels))\n",
    "    plt.bar(X_axis - 0.2, noClaim, 0.4, label = 'No Claim', color = 'blue')\n",
    "    plt.bar(X_axis + 0.2, claim, 0.4, label = 'Claim', color = 'red')\n",
    "\n",
    "    plt.xlabel(xAxis)\n",
    "    plt.ylabel(\"Number of Claims\")\n",
    "    plt.title(title)\n",
    "    plt.legend()\n",
    "    plt.show()\n",
    "\n",
    "    \n",
    "# Creates and shows a Marimekko plot for one variable grouped by outcome.    \n",
    "def claimMarimekko(xlabels,title, varHash):\n",
    "    x = []\n",
    "    y = []\n",
    "\n",
    "    for i in xlabels:\n",
    "        total = varHash[i]['claim'] + varHash[i]['noClaim']\n",
    "        x.append(total)\n",
    "        y.append(varHash[i]['claim'] / total)    \n",
    "\n",
    "    fig, ax = plt.subplots(1)\n",
    "    width = [i/sum(x) for i in x]\n",
    "\n",
    "    adjusted_x, temp = [0], 0\n",
    "    for i in width[:-1]:\n",
    "        temp += i\n",
    "        adjusted_x.append(temp)\n",
    "\n",
    "    plt.bar(adjusted_x, y, width=width, align = 'edge', edgecolor ='black', color = 'red')\n",
    "    plt.bar(adjusted_x, np.ones(len(y))-y, bottom = y, width = width,\n",
    "            align = 'edge', edgecolor = 'black', color = 'blue')\n",
    "\n",
    "    ax.set_yticks([0, 0.25, 0.5, 0.75, 1])\n",
    "    ax.set_yticklabels(['0%', '25%', '50%', '75%', '100%'])\n",
    "    ax.set_xticks([0, 0.25, 0.5, 0.75, 1])\n",
    "    ax.set_xticklabels(['0%', '25%', '50%', '75%', '100%'])\n",
    "    plt.ylim(0,1)\n",
    "    plt.xlim(0,1)\n",
    "\n",
    "    axy = ax.twiny()\n",
    "    axy.set_xticks([(width[i]/2)+ v for i, v in enumerate(adjusted_x)])\n",
    "    axy.set_xticklabels(xlabels, fontsize=10)\n",
    "    \n",
    "    red = mpatches.Patch(color='red', label='Claim')\n",
    "    blue = mpatches.Patch(color='blue', label='No Claim')\n",
    "    plt.legend(handles=[red, blue])\n",
    "    plt.title(title)\n",
    "    plt.show()\n",
    "    "
   ]
  },
  {
   "cell_type": "markdown",
   "id": "leading-threat",
   "metadata": {},
   "source": [
    "I have chosen three plots demonstrating how features of a customer relate to whether or not a claim was made. These demonstrate that client features are important and indicate that formal modelling will be useful for these variables and others not shown here. Indeed, the formal model shown in Section 2 identifies that Credit score is not a particularly important variable despite its relationship to making a claim in this graph, showing that these plots can be useful but are not the full picture."
   ]
  },
  {
   "cell_type": "markdown",
   "id": "verified-symphony",
   "metadata": {},
   "source": [
    "#### Plot 1\n",
    "\n",
    "The below plot demonstrates the relationship between annual mileage and outcome by grouping mileage into small distinct ranges and plotting a histogram of their frequencies, for those who made a claim and those who didnt. \n",
    "\n",
    "The plot clearly shows distinctly different peaks for the claim groups and non claim groups leading to the conclusion that those who made a claim in general have a higher annual mileage. It also demonstrates the prevelance of those who claimed is lower for the entire dataset. It is important to note that this correlation does not necessarily mean high annual milege is the cause of this group claiming more, but it definitely does warrant further investigation. \n",
    "\n",
    "Any of the variables can be viewed in this way and it is a useful method to visually assess the variables' correlation with claims. If you plot this for different variables you will see differing levels of correlation. "
   ]
  },
  {
   "cell_type": "code",
   "execution_count": 5,
   "id": "automatic-ending",
   "metadata": {},
   "outputs": [
    {
     "data": {
      "image/png": "[encoded data removed]",
      "text/plain": [
       "<Figure size 432x288 with 1 Axes>"
      ]
     },
     "metadata": {
      "needs_background": "light"
     },
     "output_type": "display_data"
    }
   ],
   "source": [
    "df = df.dropna()\n",
    "categorise('annual_mileage', 21, df) \n",
    "mileHash = createFreqHash('annual_mileage')\n",
    "xlabels = [i for i in range(21)]\n",
    "claimDoubleBarchart(xlabels, 'Annual Mileage (1000s of miles)', 'Number of Claims by Annual Mileage', mileHash)"
   ]
  },
  {
   "cell_type": "markdown",
   "id": "imported-toolbox",
   "metadata": {},
   "source": [
    "#### Plot 2\n",
    "\n",
    "This boxplot tests the different quartiles of credit score for two groups, those who made a claim and those who didn't. Similarly to Plot 1, it demonstrates a difference in median value for the two groups which suggests a correlation between credit score and claims. Additionally however this plot shows the size of the quartiles for each group. The box in the centre demonstrates the size of the second and third quartiles while the line segments outside the box demonstrate the size of the first and fourth quartiles, while the far reaching dots represent outliers. \n",
    "\n",
    "This visualisation is useful as the size of the quartiles can tell you information about a category, if the box was quite narrow it would suggest a lot of values are clumped around the mean suggesting the significance of that category. Alternatively as in this example you can see that one side of the box is larger than the other. This suggests these distributions have longer tails on one side, which can also be useful information when analysing your data.\n",
    "\n",
    "Any continuous or interval data can be visualised in this way, and different categories will display different shapes."
   ]
  },
  {
   "cell_type": "code",
   "execution_count": 6,
   "id": "radio-bennett",
   "metadata": {
    "scrolled": true
   },
   "outputs": [
    {
     "data": {
      "image/png": "[encoded data removed]",
      "text/plain": [
       "<Figure size 432x288 with 1 Axes>"
      ]
     },
     "metadata": {
      "needs_background": "light"
     },
     "output_type": "display_data"
    }
   ],
   "source": [
    "boxplot = df.boxplot(column=['credit_score'], by=['outcome'])\n",
    "plt.suptitle(\"\")\n",
    "boxplot.set_xlabel(\"Made a claim last year\")\n",
    "boxplot.set_ylabel(\"Credit Score\")\n",
    "boxplot.set_title(\"Credit Score comparison for claims\")\n",
    "plt.show()"
   ]
  },
  {
   "cell_type": "markdown",
   "id": "durable-schema",
   "metadata": {},
   "source": [
    "#### Plot 3 \n",
    "\n",
    "This is a Marimekko plot showing the proportions of each category of driving experience who made a claim. This plot demonstrates that customers with 0-9 years of driving experience are significantly more likely to make a claim than the other categories, and claim likelihood decreases as the number of years driving increases. The width of each category represents the proportion of the total data who fit in that category.\n",
    "\n",
    "This plot is useful as not only does it show a clear relationship between driving experience and claims but it also shows how important that category can be as a variable and for your business with its width. In this example we can see that not only are the highest claim proportions in the first two categories, but also those two categories make up close to 70% of your customer base. Meaning this is a variable you should definitely pay attention to. \n",
    "\n",
    "Any categorical variable can be viewed in this way, and continuous variables can two with a transformation into distinct categories."
   ]
  },
  {
   "cell_type": "code",
   "execution_count": 7,
   "id": "optional-strand",
   "metadata": {},
   "outputs": [
    {
     "data": {
      "image/png": "[encoded data removed]",
      "text/plain": [
       "<Figure size 432x288 with 2 Axes>"
      ]
     },
     "metadata": {
      "needs_background": "light"
     },
     "output_type": "display_data"
    }
   ],
   "source": [
    "expHash = createFreqHash('driving_experience')\n",
    "xlabels = ['0-9y', '10-19y', '20-29y', '30y+']\n",
    "claimMarimekko(xlabels, \"Proportion of custumers with a claim, by driving experience\", expHash)"
   ]
  },
  {
   "cell_type": "markdown",
   "id": "cellular-queen",
   "metadata": {},
   "source": [
    "# Section 2"
   ]
  },
  {
   "cell_type": "markdown",
   "id": "informational-jacket",
   "metadata": {},
   "source": [
    "In this section I will create a logistic regression model to predict the likelihood of a claim being made given the data shared with me. I will evaluate and refine it before making data recommendations to the client"
   ]
  },
  {
   "cell_type": "markdown",
   "id": "offensive-respondent",
   "metadata": {},
   "source": [
    "### Imports"
   ]
  },
  {
   "cell_type": "code",
   "execution_count": 8,
   "id": "every-nickel",
   "metadata": {},
   "outputs": [],
   "source": [
    "from sklearn.linear_model import LogisticRegression\n",
    "from sklearn.model_selection import train_test_split\n",
    "from sklearn.metrics import confusion_matrix\n",
    "from sklearn.metrics import classification_report\n",
    "from sklearn.metrics import plot_roc_curve\n",
    "from sklearn.metrics import log_loss\n",
    "from sklearn.feature_selection import chi2\n",
    "from sklearn.preprocessing import LabelEncoder\n",
    "from sklearn.preprocessing import PolynomialFeatures\n",
    "import math\n",
    "from scipy.stats import sem\n",
    "from scipy import mean"
   ]
  },
  {
   "cell_type": "markdown",
   "id": "adult-directory",
   "metadata": {},
   "source": [
    "### Function Library"
   ]
  },
  {
   "cell_type": "code",
   "execution_count": 9,
   "id": "indoor-daily",
   "metadata": {},
   "outputs": [],
   "source": [
    "# Transforms variable into categorical with a set number of categories (bins).\n",
    "def categorise(variable, n_bins, df):\n",
    "    label_encoder = LabelEncoder()\n",
    "    y = label_encoder.fit_transform(pd.cut(df[variable], n_bins, retbins=True)[0])\n",
    "    del df[variable]\n",
    "    df.insert(0, variable, y)\n",
    "\n",
    "    \n",
    "# Creates Logistic regression model from the training data after preparation\n",
    "# Returns the model itself and prints a table of each feature with its -\n",
    "# -  coefficient, p-val, mean coefficient, std. error, z value and relative odds.\n",
    "def createModel(X,Y):\n",
    "    M = []\n",
    "    S = []\n",
    "    mu = []\n",
    "    std = []\n",
    "    \n",
    "    for i in range(100,-1,-1):\n",
    "        X_train, X_test, Y_train, Y_test = train_test_split(X, Y, random_state = i)\n",
    "        model = LogisticRegression(solver = 'lbfgs', max_iter = 1000)\n",
    "        model.fit(X_train, Y_train)\n",
    "        \n",
    "        M.append(model.coef_[0].tolist())\n",
    "     \n",
    "    scores, pvalues = chi2(X_train, Y_train)\n",
    "\n",
    "    for i in range(len(X_train.columns)):\n",
    "        temp = []\n",
    "        for j in range(len(M)):\n",
    "            temp.append(M[j][i])\n",
    "        S.append(temp)\n",
    "\n",
    "    for i in range(len(X_train.columns)):\n",
    "        mu.append(np.mean(S[i]))\n",
    "        std.append(sem(S[i]))\n",
    "\n",
    "    z_score = []\n",
    "    for i in range(len(X_train.columns)):\n",
    "        z_score.append(abs(mu[i]/std[i]))    \n",
    "    \n",
    "    Yhat = [model.intercept_[0] + mu[i] for i in range(len(X_train.columns))]\n",
    "    odds = [math.exp(Yhat[i])/(1 + math.exp(Yhat[i])) for i in range(len(X_train.columns))]\n",
    "    prop = math.exp(model.intercept_[0])/(1 + math.exp(model.intercept_[0]))\n",
    "    relOdds = [100*(odds[i] - prop) for i in range(len(odds))]\n",
    "    \n",
    "    pvals = {'Features':X_train.columns, 'Coefs.':model.coef_[0], 'p-values':pvalues, \n",
    "             'Mean Coefs.':mu, 'Std. Error':std, \n",
    "             'Z Value':z_score, 'Relative Odds':relOdds }\n",
    "    df_pvals = pd.DataFrame(pvals)\n",
    "    \n",
    "    cont = ['credit_score','speeding_violations','telematic_score','DUIs']\n",
    "    for index, row in df_pvals.iterrows():\n",
    "        if row['Features'] in cont:\n",
    "            df_pvals.at[index,'Relative Odds'] = 0\n",
    "    \n",
    "    sorted_df = df_pvals.sort_values(by = ['Features','p-values']).reset_index(drop = True)\n",
    "    print('Intercept:  ', model.intercept_[0])\n",
    "    with pd.option_context('expand_frame_repr', False, 'display.max_rows', None, \n",
    "                           'display.max_columns', None, 'display.precision', 5,):\n",
    "        print(sorted_df)\n",
    "        \n",
    "    return model, sorted_df\n",
    "\n",
    "\n",
    "# Prints a number of evaluative metrics for any given model based on the test data.\n",
    "def evaluateModel(model, X_test, Y_test):\n",
    "    Y_pred = model.predict(X_test)\n",
    "    Y_pred_prob = model.predict_proba(X_test)\n",
    "    \n",
    "    CM = confusion_matrix(Y_test, Y_pred)\n",
    "    print(\"Confusion Matrix:\")\n",
    "    print(CM, '\\n')\n",
    "    \n",
    "    TPR = CM[1][1]/(CM[1][1] + CM[0][1])\n",
    "    TNR = CM[0][0]/(CM[0][0] + CM[1][0])\n",
    "    FPR = CM[1][0]/(CM[0][0] + CM[1][0])\n",
    "    FNR = CM[0][1]/(CM[1][1] + CM[0][1])\n",
    "    \n",
    "    print('True Positive Rate: {:.2f}'.format(TPR))\n",
    "    print('True Negative Rate: {:.2f}'.format(TNR))\n",
    "    print('False Positive Rate: {:.2f}'.format(FPR))\n",
    "    print('False Negative Rate: {:.2f}'.format(FNR), '\\n')\n",
    "    \n",
    "    print('Overall Accuracy: {:.4f}'.format(model.score(X_test, Y_test)), '\\n')\n",
    "    print(classification_report(Y_test, Y_pred))\n",
    "    \n",
    "    print('Log Loss: {:.4f}'.format(log_loss(Y_test, Y_pred_prob)), '\\n')\n",
    "    \n",
    "    print('ROC Curve:')\n",
    "    plot_roc_curve(model, X_test, Y_test)\n",
    "\n",
    "    \n",
    "# Creates Interaction terms between any two variables (continuous or categorical).\n",
    "# Returns a data frame with all the relevant interaction terms.\n",
    "def getInteractionTerm(variables, df):\n",
    "    df1 = df[variables]\n",
    "    dummies = []\n",
    "    continuous = ['telematic_score', 'credit_score']\n",
    "    for var in variables:\n",
    "        if var not in continuous:\n",
    "            dummies.append(var)\n",
    "    \n",
    "    X = pd.get_dummies(df1, columns = dummies)\n",
    "    \n",
    "    poly = PolynomialFeatures(interaction_only = True, include_bias = False)\n",
    "    interaction = poly.fit_transform(X)\n",
    "    names = poly.get_feature_names(X.columns)\n",
    "    for name in names:\n",
    "        name = name.replace(\" \", \":\")\n",
    "    \n",
    "    interactionTerms = pd.DataFrame(interaction, columns = names)\n",
    "    for column in interactionTerms.columns[(interactionTerms == 0).all()]:\n",
    "        del interactionTerms[column]\n",
    "        \n",
    "    return interactionTerms\n",
    "\n",
    "\n",
    "# Creates squared terms for two variable \n",
    "# Returns data frame with squared terms and interaction terms as an aside. \n",
    "def getSquaredTerms(variables, df):\n",
    "    df1 = df[variables]\n",
    "    \n",
    "    poly = PolynomialFeatures(degree = 2, interaction_only = False, include_bias = False)\n",
    "    squared = poly.fit_transform(df1)\n",
    "    #print(squared)\n",
    "    names = poly.get_feature_names(df1.columns)\n",
    "    \n",
    "    squaredTerm = pd.DataFrame(squared, columns = names)\n",
    "    \n",
    "    return squaredTerm\n",
    "\n",
    "\n",
    "# Investigates the importance of missing data in the data set\n",
    "# Returns the proportion of customers with a claim for missing data and for not. \n",
    "def checkMissingData(variable):\n",
    "    missingClaim = 0\n",
    "    missing = 0\n",
    "    notMissingclaim = 0\n",
    "    for index, row in df.iterrows():\n",
    "\n",
    "        if pd.isnull(row[variable]):\n",
    "            missing += 1\n",
    "            if row[\"outcome\"] == True:\n",
    "                missingClaim += 1\n",
    "        else:\n",
    "            if row[\"outcome\"] == True:\n",
    "                notMissingclaim += 1\n",
    "\n",
    "    missProp = missingClaim/missing\n",
    "    notMissProp = notMissingclaim/(len(df)-missing)\n",
    "    print(variable,'missing data claim difference.')\n",
    "    print('Missing data claim proportion: {:.4f}'.format(missProp))\n",
    "    print('Not missing claim proportion: {:.4f}'.format(notMissProp))\n",
    "    print('Percentage difference: {:.4f}'.format((missProp-notMissProp)*100,),'%', '\\n')\n"
   ]
  },
  {
   "cell_type": "markdown",
   "id": "resistant-pantyhose",
   "metadata": {},
   "source": [
    "### 2.1 Data Preprocessing"
   ]
  },
  {
   "cell_type": "markdown",
   "id": "grand-founder",
   "metadata": {},
   "source": [
    "Perform any necessary data preprocessing in order to build a model. Briefly discuss any assumptions\n",
    "being made about the data and explain any preprocessing decisions."
   ]
  },
  {
   "cell_type": "markdown",
   "id": "permanent-arbitration",
   "metadata": {},
   "source": [
    "After initially loading the data, I removed the 'id' and 'monthly_mileage' columns.\n",
    "\n",
    "The 'id' variable should be removed as IDs are randomly assigned and will have no predictive power. The 'monthly_mileage' variable shoulld be removed as the data already contains 'annual_mileage'. The two variables are a linear transformation of each other and thus are co-linear. "
   ]
  },
  {
   "cell_type": "code",
   "execution_count": 10,
   "id": "measured-tulsa",
   "metadata": {},
   "outputs": [
    {
     "name": "stdout",
     "output_type": "stream",
     "text": [
      "Index(['age', 'gender', 'race', 'driving_experience', 'education', 'income',\n",
      "       'credit_score', 'vehicle_ownership', 'vehicle_year', 'married',\n",
      "       'children', 'postal_code', 'annual_mileage', 'vehicle_type',\n",
      "       'speeding_violations', 'DUIs', 'past_accidents', 'outcome',\n",
      "       'telematic_score'],\n",
      "      dtype='object')\n"
     ]
    }
   ],
   "source": [
    "df = pd.read_csv(\"customer-data-20210628.csv\")\n",
    "df.drop(df.columns[[0,20]], axis = 1, inplace = True)\n",
    "print(df.columns)"
   ]
  },
  {
   "cell_type": "markdown",
   "id": "transparent-conclusion",
   "metadata": {},
   "source": [
    "'credit_score' and 'annual_mileage' are the two variables with missing data. As shown below the difference in claim proportion for credit score between missing and normal data is very small. As such and because the dataset is sufficiently large to create a model, it is approproate to simply drop these data from the analysis instead of assigning a value.\n",
    "\n",
    "As for 'annual_mileage' the difference between missing and normal data for claim proportion is much larger. This does not mean it is necessarily a statistically significant factor, but certainly warrants further investigation. Thus to handle the missing data, annual mileage will be transformed into a categorical varriable with missing as one of the categories."
   ]
  },
  {
   "cell_type": "code",
   "execution_count": 11,
   "id": "minor-criterion",
   "metadata": {
    "scrolled": true
   },
   "outputs": [
    {
     "name": "stdout",
     "output_type": "stream",
     "text": [
      "credit_score missing data claim difference.\n",
      "Missing data claim proportion: 0.3096\n",
      "Not missing claim proportion: 0.3137\n",
      "Percentage difference: -0.4134 % \n",
      "\n",
      "annual_mileage missing data claim difference.\n",
      "Missing data claim proportion: 0.3375\n",
      "Not missing claim proportion: 0.3107\n",
      "Percentage difference: 2.6775 % \n",
      "\n"
     ]
    }
   ],
   "source": [
    "checkMissingData('credit_score')\n",
    "checkMissingData('annual_mileage')"
   ]
  },
  {
   "cell_type": "markdown",
   "id": "vanilla-museum",
   "metadata": {},
   "source": [
    "The below cell handles all data pre-processing before the model is created. \n",
    "\n",
    "1. 'past_accidents' is categorised as well as 'annual_mileage' after initial investigation suggests the relationship with outcome may not be linear.\n",
    "2. Binary dummy variables for each category are created and then any data with missing values are removed from the dummyData set.\n",
    "3. Data then split into training (roughly 75%) and testing (roughly 25%) data for model creation and evaluation respectively. "
   ]
  },
  {
   "cell_type": "code",
   "execution_count": 12,
   "id": "graphic-curtis",
   "metadata": {},
   "outputs": [],
   "source": [
    "# Transform 'annual_mileage' and 'past_accidents' into categorical variables\n",
    "categorise('annual_mileage', 5, df)\n",
    "categorise('past_accidents', 4, df)\n",
    "\n",
    "# Creates a set of binary dummy variables for each category of every boolean or categorical variable. \n",
    "dummyData = pd.get_dummies(df, columns =['age', 'gender', 'race', 'driving_experience', 'annual_mileage',\n",
    "                                         'education', 'income', 'vehicle_ownership', 'vehicle_year', 'married', \n",
    "                                         'children', 'postal_code','past_accidents',\n",
    "                                          'vehicle_type'],dummy_na = False,  drop_first=True)\n",
    "\n",
    "# Removes any dummy variable with no occurences in the data.\n",
    "for column in dummyData.columns[(dummyData == 0).all()]:\n",
    "    del dummyData[column]\n",
    "\n",
    "# Drops any columns with missing data, at this point only those missing values from 'credit_score'.\n",
    "dummyData = dummyData.dropna()\n",
    "\n",
    "# Splits data into X and Y and then splits again into training data and testing data.  \n",
    "X = dummyData.drop(['outcome'], axis = 1)\n",
    "Y = dummyData['outcome']\n",
    "\n",
    "X_train, X_test, Y_train, Y_test = train_test_split(X, Y, random_state = 0)"
   ]
  },
  {
   "cell_type": "markdown",
   "id": "canadian-class",
   "metadata": {},
   "source": [
    "### 2.2 Model\n",
    "\n",
    "Select and fit one proof of concept model to predict the outcome column from the customer data. State the reasons for the choice of model. "
   ]
  },
  {
   "cell_type": "markdown",
   "id": "private-translator",
   "metadata": {},
   "source": [
    "Since the outcome variable is a boolean or binary variable, a classification model is required to predict the likelihood of True or False. Hence I have used a Logistic Regression, as it predicts the probability of one outcome or another and can also act as a classifier. As well as this the coefficient and p-value of each individual variable is displayable which is useful in these circumstances as a company would want to know which factors are most important.\n",
    "\n",
    "Notes on the model:\n",
    "\n",
    "The below cell presents the full model created. The intercept, along with every categorical and continuous variable assesed with Coefficient and p-value. Also included are the results of a bootstrap method, repeatedly creating a model 100 times and taking the mean of all Coefficients, and calculating their Standard Error and resulting Z Value. Z value here is defined as mean coefficient / standard error, testing the null hypothesis that a variable has no effect on outcome.\n",
    "\n",
    "Logistic Regressions are inherently unstable due to their iterative nature. Hence the coefficients given in the initial model are not always representative. The bootstrap method allows us to see which coefficients are more or less reliable and how far they are from 0. One example of that instability can be seen here where this particular iteration of the model suggests DUIs has a highly significant negative coefficient when it's mean value is positive and the low Z value re-confirms this coefficient's lack of reliability.\n",
    "\n",
    "Relative Odds refers to the percentage difference in likelihood of making a claim in comparison to the intercept or reference categories. The values for continuous or ordinal data are 0 in this column as this is not an appropriate measure for non-categorical variables."
   ]
  },
  {
   "cell_type": "code",
   "execution_count": 13,
   "id": "described-serve",
   "metadata": {},
   "outputs": [
    {
     "name": "stdout",
     "output_type": "stream",
     "text": [
      "Intercept:   -0.5631851495153195\n",
      "                     Features   Coefs.      p-values  Mean Coefs.  Std. Error    Z Value  Relative Odds\n",
      "0                        DUIs -0.03541   9.31621e-74      0.00542     0.00517    1.04813        0.00000\n",
      "1                   age_26-39 -0.19768   7.45967e-03     -0.12799     0.00652   19.62942       -2.90400\n",
      "2                   age_40-64 -0.31211   4.13282e-52     -0.18417     0.00696   26.44933       -4.14122\n",
      "3                     age_65+ -0.24321   2.61884e-65     -0.15868     0.00864   18.36910       -3.58284\n",
      "4            annual_mileage_1  0.14758   4.19338e-15      0.08603     0.00927    9.28266        2.01126\n",
      "5            annual_mileage_2  0.46370   8.64512e-01      0.39935     0.00936   42.66974        9.63225\n",
      "6            annual_mileage_3  0.80802   2.35938e-27      0.78454     0.01110   70.65129       19.23020\n",
      "7            annual_mileage_4  1.86206   1.01192e-05      1.81314     0.02021   89.72975       41.44816\n",
      "8            annual_mileage_5  0.53600   1.05783e-01      0.42248     0.00931   45.37536       10.20718\n",
      "9               children_True -0.19953   9.96303e-29     -0.13656     0.00388   35.17366       -3.09422\n",
      "10               credit_score  0.23035   4.28905e-07      0.10495     0.01550    6.77052        0.00000\n",
      "11  driving_experience_10-19y -1.91054   9.46016e-14     -1.94030     0.00535  362.87156      -28.71964\n",
      "12  driving_experience_20-29y -3.51756   5.89381e-98     -3.67453     0.00940  390.85714      -34.85757\n",
      "13    driving_experience_30y+ -4.23331   1.77562e-66     -4.08496     0.01262  323.60570      -35.33224\n",
      "14             education_none  0.05702   2.32032e-30      0.03608     0.00513    7.03553        0.83820\n",
      "15       education_university  0.02949   1.28218e-18      0.01438     0.00424    3.39621        0.33319\n",
      "16                gender_male  1.00775   8.77407e-09      1.00608     0.00387  259.73525       24.61381\n",
      "17                 income_low -0.04363   6.02166e-25      0.08832     0.00679   12.99944        2.06554\n",
      "18              income_medium -0.06340   1.80755e-03     -0.00765     0.00522    1.46542       -0.17672\n",
      "19            income_very low -0.02730  1.35997e-142      0.09449     0.00971    9.72794        2.21147\n",
      "20               married_True -0.44823   3.15275e-53     -0.40756     0.00447   91.17159       -8.80779\n",
      "21           past_accidents_1 -0.22176   9.39947e-40     -0.21957     0.00975   22.52916       -4.90849\n",
      "22           past_accidents_2 -0.49797   3.43097e-07     -0.49466     0.00537   92.11614      -10.50890\n",
      "23           past_accidents_3 -0.02133   1.76850e-01     -0.01666     0.00061   27.21464       -0.38419\n",
      "24          postal_code_21217  6.58727   5.26625e-41      6.68157     0.01444  462.79473       63.49920\n",
      "25          postal_code_32765  1.17473   5.17101e-09      1.15638     0.00497  232.82241       28.12876\n",
      "26          postal_code_92101  1.21930   1.73936e-04      1.33049     0.00909  146.40703       32.01266\n",
      "27              race_minority -0.10860   5.32584e-01     -0.08356     0.00609   13.73014       -1.90885\n",
      "28        speeding_violations -0.01362   0.00000e+00     -0.02620     0.00160   16.39775        0.00000\n",
      "29            telematic_score -0.00204   2.91854e-02     -0.00160     0.00006   25.57546        0.00000\n",
      "30     vehicle_ownership_True -1.82849   4.68710e-65     -1.83030     0.00481  380.38707      -27.91401\n",
      "31    vehicle_type_sports car -0.19077   5.90536e-01     -0.04199     0.00949    4.42652       -0.96498\n",
      "32   vehicle_year_before 2015  1.89777   1.18624e-40      1.85417     0.00510  363.36418       42.15036\n"
     ]
    }
   ],
   "source": [
    "model, sorted_df = createModel(X, Y)"
   ]
  },
  {
   "cell_type": "markdown",
   "id": "allied-following",
   "metadata": {},
   "source": [
    "### 2.3.1 Model Evaluation\n",
    "\n",
    "Validate your model using appropriate metrics, explain the choice of metric and state how you would expect it to perform on the rest of the client’s data."
   ]
  },
  {
   "cell_type": "markdown",
   "id": "charming-loading",
   "metadata": {},
   "source": [
    "The below cell presents a number of evaluative measures for this baseline model. Given the lower prevalence of outcome = True, we would expect the true positive rate to be lower than the true negative rate. The overall accuracy acheived is good and the log loss is quite low when the prevalence of True value in outcome is taken into account."
   ]
  },
  {
   "cell_type": "code",
   "execution_count": 14,
   "id": "quantitative-graphics",
   "metadata": {},
   "outputs": [
    {
     "name": "stdout",
     "output_type": "stream",
     "text": [
      "Confusion Matrix:\n",
      "[[1398  146]\n",
      " [ 187  524]] \n",
      "\n",
      "True Positive Rate: 0.78\n",
      "True Negative Rate: 0.88\n",
      "False Positive Rate: 0.12\n",
      "False Negative Rate: 0.22 \n",
      "\n",
      "Overall Accuracy: 0.8523 \n",
      "\n",
      "              precision    recall  f1-score   support\n",
      "\n",
      "       False       0.88      0.91      0.89      1544\n",
      "        True       0.78      0.74      0.76       711\n",
      "\n",
      "    accuracy                           0.85      2255\n",
      "   macro avg       0.83      0.82      0.83      2255\n",
      "weighted avg       0.85      0.85      0.85      2255\n",
      "\n",
      "Log Loss: 0.3243 \n",
      "\n",
      "ROC Curve:\n"
     ]
    },
    {
     "data": {
      "image/png": "[encoded data removed]",
      "text/plain": [
       "<Figure size 432x288 with 1 Axes>"
      ]
     },
     "metadata": {
      "needs_background": "light"
     },
     "output_type": "display_data"
    }
   ],
   "source": [
    "evaluateModel(model, X_test, Y_test)"
   ]
  },
  {
   "cell_type": "markdown",
   "id": "focal-vault",
   "metadata": {},
   "source": [
    "### 2.3.2 Feature Selection"
   ]
  },
  {
   "cell_type": "markdown",
   "id": "systematic-graham",
   "metadata": {},
   "source": [
    "The model's accuracy is good, but their are many predictors in the model with high p-values and low Z values. In order to find a balance between simplicity and accuracy, I decided to remove variables with low Z scores. \n",
    "\n",
    "Becasue the p-values are based off this one version of the model, they do not tell the whole story.The Z values obtained from the mean coefficients in the bootstrap method provide a more complete picture of variable significance if this model were to be reproduced in a different state. \n",
    "\n",
    "Since the dataset is artificially generated, it displays much higher regularity than real world data. As such the Z values for each coefficient are artificially higher than real world values as these data exhibit much lower variance than could be expected in the real world. For this reason I have chosen Z < 10 as a cut off, as it removes many insignificant variables, without affecting accuracy significantly. \n",
    "\n",
    "Also, even though race has a sufficiently high Z score to remain in the model, this value is most-likely due to race's colinearity with other factors. For this reason I have chosen to remove it from the feature set. I tested the accuracy with and without race and it was marginally higher without race. \n",
    "\n",
    "Note: In a real world anaylisis a common value for z would usually be 1.96 or greater. "
   ]
  },
  {
   "cell_type": "code",
   "execution_count": 15,
   "id": "fundamental-account",
   "metadata": {},
   "outputs": [],
   "source": [
    "# Removes any variable with a Z value below a prescribed level.\n",
    "for index, row in sorted_df.iterrows():\n",
    "    if row['Z Value'] < 10:\n",
    "        del dummyData[row['Features']]\n",
    "\n",
    "# Manually removing 'race' from the feature set.\n",
    "del dummyData['race_minority']\n",
    "\n",
    "# Recreates the dummyData set with the new reduced set of features and splits it for model creation.\n",
    "X = dummyData.drop(['outcome'], axis = 1)\n",
    "Y = dummyData['outcome']\n",
    "\n",
    "X_train2, X_test2, Y_train2, Y_test2 = train_test_split(X, Y, random_state = 0)"
   ]
  },
  {
   "cell_type": "markdown",
   "id": "consistent-madrid",
   "metadata": {},
   "source": [
    "The below cell displays the reduced model. In some cases, like 'vehicle_type' and 'DUIs', entire variables have been found insignificant and removed from the feature set. In other cases, only some categories of a variable have been removed."
   ]
  },
  {
   "cell_type": "code",
   "execution_count": 16,
   "id": "mineral-modern",
   "metadata": {},
   "outputs": [
    {
     "name": "stdout",
     "output_type": "stream",
     "text": [
      "Intercept:   -0.3470959377515235\n",
      "                     Features   Coefs.     p-values  Mean Coefs.  Std. Error    Z Value  Relative Odds\n",
      "0                   age_26-39 -0.18175  7.45967e-03     -0.14505     0.00618   23.48357       -3.46991\n",
      "1                   age_40-64 -0.27814  4.13282e-52     -0.21158     0.00608   34.81621       -5.02321\n",
      "2                     age_65+ -0.18333  2.61884e-65     -0.18705     0.00725   25.79800       -4.45359\n",
      "3            annual_mileage_2  0.32496  8.64512e-01      0.31823     0.00469   67.84366        7.86972\n",
      "4            annual_mileage_3  0.67457  2.35938e-27      0.70481     0.00702  100.36575       17.44012\n",
      "5            annual_mileage_4  1.74390  1.01192e-05      1.73301     0.01860   93.19646       38.58530\n",
      "6            annual_mileage_5  0.40395  1.05783e-01      0.34569     0.00614   56.26540        8.55626\n",
      "7               children_True -0.20143  9.96303e-29     -0.13758     0.00387   35.54277       -3.29391\n",
      "8   driving_experience_10-19y -1.91417  9.46016e-14     -1.93879     0.00527  368.23002      -32.17880\n",
      "9   driving_experience_20-29y -3.52820  5.89381e-98     -3.67638     0.00932  394.49828      -39.65106\n",
      "10    driving_experience_30y+ -4.21910  1.77562e-66     -4.07869     0.01266  322.26652      -40.22635\n",
      "11                gender_male  1.00382  8.77407e-09      1.00204     0.00377  265.47237       24.40364\n",
      "12                 income_low -0.02548  6.02166e-25      0.04460     0.00430   10.36974        1.08614\n",
      "13               married_True -0.44558  3.15275e-53     -0.41866     0.00437   95.71391       -9.66882\n",
      "14           past_accidents_1 -0.20404  9.39947e-40     -0.21608     0.00979   22.06148       -5.12736\n",
      "15           past_accidents_2 -0.48452  3.43097e-07     -0.46661     0.00507   92.10406      -10.69848\n",
      "16           past_accidents_3 -0.01736  1.76850e-01     -0.01315     0.00046   28.32543       -0.31876\n",
      "17          postal_code_21217  6.57148  5.26625e-41      6.69855     0.01453  461.12682       58.41720\n",
      "18          postal_code_32765  1.16938  5.17101e-09      1.15049     0.00492  233.81502       27.66123\n",
      "19          postal_code_92101  1.22768  1.73936e-04      1.32970     0.00911  145.88102       31.35376\n",
      "20        speeding_violations -0.01581  0.00000e+00     -0.02630     0.00162   16.22853        0.00000\n",
      "21            telematic_score -0.00209  2.91854e-02     -0.00162     0.00006   25.90981        0.00000\n",
      "22     vehicle_ownership_True -1.81421  4.68710e-65     -1.84608     0.00461  400.85750      -31.37216\n",
      "23   vehicle_year_before 2015  1.87924  1.18624e-40      1.86698     0.00491  380.02986       40.64347\n"
     ]
    }
   ],
   "source": [
    "model2, sorted_df = createModel(X, Y)"
   ]
  },
  {
   "cell_type": "markdown",
   "id": "breeding-moscow",
   "metadata": {},
   "source": [
    "As the below evaluation of the model shows, removing these variables had a negligible effect on overall accuracy, while log loss decreased and the model became a lot simpler for interpretation."
   ]
  },
  {
   "cell_type": "code",
   "execution_count": 17,
   "id": "solved-lawsuit",
   "metadata": {},
   "outputs": [
    {
     "name": "stdout",
     "output_type": "stream",
     "text": [
      "Confusion Matrix:\n",
      "[[1401  143]\n",
      " [ 188  523]] \n",
      "\n",
      "True Positive Rate: 0.79\n",
      "True Negative Rate: 0.88\n",
      "False Positive Rate: 0.12\n",
      "False Negative Rate: 0.21 \n",
      "\n",
      "Overall Accuracy: 0.8532 \n",
      "\n",
      "              precision    recall  f1-score   support\n",
      "\n",
      "       False       0.88      0.91      0.89      1544\n",
      "        True       0.79      0.74      0.76       711\n",
      "\n",
      "    accuracy                           0.85      2255\n",
      "   macro avg       0.83      0.82      0.83      2255\n",
      "weighted avg       0.85      0.85      0.85      2255\n",
      "\n",
      "Log Loss: 0.3233 \n",
      "\n",
      "ROC Curve:\n"
     ]
    },
    {
     "data": {
      "image/png": "[encoded data removed]",
      "text/plain": [
       "<Figure size 432x288 with 1 Axes>"
      ]
     },
     "metadata": {
      "needs_background": "light"
     },
     "output_type": "display_data"
    }
   ],
   "source": [
    "evaluateModel(model2, X_test2, Y_test2)"
   ]
  },
  {
   "cell_type": "markdown",
   "id": "serious-pavilion",
   "metadata": {},
   "source": [
    "### 2.3.3 Interaction and Quadratic Testing"
   ]
  },
  {
   "cell_type": "markdown",
   "id": "mexican-browse",
   "metadata": {},
   "source": [
    "These code boxes were used to create and test Interaction terms for any two variables and Quadratic terms of continuous variables. However from the values I tested, no interaction or quadratic term was significant enough to improve accuracy without increasing complexity more.\n",
    "\n",
    "The below boxes should not be run, they are kept in as an example to demonstrate the testing I conducted."
   ]
  },
  {
   "cell_type": "code",
   "execution_count": null,
   "id": "handmade-territory",
   "metadata": {},
   "outputs": [],
   "source": [
    "# removes na values from credit_score as interaction and quadratic term formulation can't handle them.\n",
    "'''\n",
    "df = df.dropna()\n",
    "'''"
   ]
  },
  {
   "cell_type": "code",
   "execution_count": null,
   "id": "spare-setting",
   "metadata": {},
   "outputs": [],
   "source": [
    "# Creates interaction terms and inserts them into the feature set along -\n",
    "# - with the single variables if they were previously deleted.\n",
    "'''\n",
    "intTerms = getInteractionTerm(['age','gender'], df)\n",
    "for item in intTerms.columns:\n",
    "    if item not in dummyData.columns:\n",
    "        dummyData.insert(0, item, intTerms[item])\n",
    "'''"
   ]
  },
  {
   "cell_type": "code",
   "execution_count": null,
   "id": "decreased-pension",
   "metadata": {},
   "outputs": [],
   "source": [
    "# Creates quadratic terms and inserts them into the feature set along -\n",
    "# - with the single variables if they were previously deleted.\n",
    "'''\n",
    "squaredTerms = getSquaredTerms(['credit_score','DUIs'], df)\n",
    "for item in squaredTerms.columns:\n",
    "    if item == 'DUIs^2' or item == 'DUIs':\n",
    "        dummyData.insert(0, item, squaredTerms[item])\n",
    "'''"
   ]
  },
  {
   "cell_type": "code",
   "execution_count": null,
   "id": "dependent-gambling",
   "metadata": {},
   "outputs": [],
   "source": [
    "# Re makes the dummyData X and Y sets after either the quadratic or interaction term has been added.\n",
    "'''\n",
    "dummyData = dummyData.dropna()\n",
    "\n",
    "X = dummyData.drop(['outcome'], axis = 1)\n",
    "Y = dummyData['outcome']\n",
    "\n",
    "X_train3, X_test3, Y_train3, Y_test3 = train_test_split(X, Y, random_state=0)\n",
    "'''"
   ]
  },
  {
   "cell_type": "markdown",
   "id": "approximate-million",
   "metadata": {},
   "source": [
    "### 2.3.4 Conclusion"
   ]
  },
  {
   "cell_type": "markdown",
   "id": "turkish-hamburg",
   "metadata": {},
   "source": [
    "As a result model2 is the final model:"
   ]
  },
  {
   "cell_type": "code",
   "execution_count": 18,
   "id": "legitimate-rehabilitation",
   "metadata": {},
   "outputs": [
    {
     "name": "stdout",
     "output_type": "stream",
     "text": [
      "Intercept: -0.3470959377515235\n",
      "                     Features   Coefs.     p-values  Mean Coefs.  Std. Error    Z Value  Relative Odds\n",
      "0                   age_26-39 -0.18175  7.45967e-03     -0.14505     0.00618   23.48357       -3.46991\n",
      "1                   age_40-64 -0.27814  4.13282e-52     -0.21158     0.00608   34.81621       -5.02321\n",
      "2                     age_65+ -0.18333  2.61884e-65     -0.18705     0.00725   25.79800       -4.45359\n",
      "3            annual_mileage_2  0.32496  8.64512e-01      0.31823     0.00469   67.84366        7.86972\n",
      "4            annual_mileage_3  0.67457  2.35938e-27      0.70481     0.00702  100.36575       17.44012\n",
      "5            annual_mileage_4  1.74390  1.01192e-05      1.73301     0.01860   93.19646       38.58530\n",
      "6            annual_mileage_5  0.40395  1.05783e-01      0.34569     0.00614   56.26540        8.55626\n",
      "7               children_True -0.20143  9.96303e-29     -0.13758     0.00387   35.54277       -3.29391\n",
      "8   driving_experience_10-19y -1.91417  9.46016e-14     -1.93879     0.00527  368.23002      -32.17880\n",
      "9   driving_experience_20-29y -3.52820  5.89381e-98     -3.67638     0.00932  394.49828      -39.65106\n",
      "10    driving_experience_30y+ -4.21910  1.77562e-66     -4.07869     0.01266  322.26652      -40.22635\n",
      "11                gender_male  1.00382  8.77407e-09      1.00204     0.00377  265.47237       24.40364\n",
      "12                 income_low -0.02548  6.02166e-25      0.04460     0.00430   10.36974        1.08614\n",
      "13               married_True -0.44558  3.15275e-53     -0.41866     0.00437   95.71391       -9.66882\n",
      "14           past_accidents_1 -0.20404  9.39947e-40     -0.21608     0.00979   22.06148       -5.12736\n",
      "15           past_accidents_2 -0.48452  3.43097e-07     -0.46661     0.00507   92.10406      -10.69848\n",
      "16           past_accidents_3 -0.01736  1.76850e-01     -0.01315     0.00046   28.32543       -0.31876\n",
      "17          postal_code_21217  6.57148  5.26625e-41      6.69855     0.01453  461.12682       58.41720\n",
      "18          postal_code_32765  1.16938  5.17101e-09      1.15049     0.00492  233.81502       27.66123\n",
      "19          postal_code_92101  1.22768  1.73936e-04      1.32970     0.00911  145.88102       31.35376\n",
      "20        speeding_violations -0.01581  0.00000e+00     -0.02630     0.00162   16.22853        0.00000\n",
      "21            telematic_score -0.00209  2.91854e-02     -0.00162     0.00006   25.90981        0.00000\n",
      "22     vehicle_ownership_True -1.81421  4.68710e-65     -1.84608     0.00461  400.85750      -31.37216\n",
      "23   vehicle_year_before 2015  1.87924  1.18624e-40      1.86698     0.00491  380.02986       40.64347\n"
     ]
    }
   ],
   "source": [
    "print(\"Intercept:\", model2.intercept_[0])\n",
    "with pd.option_context('expand_frame_repr', False, 'display.max_rows', None, \n",
    "                           'display.max_columns', None, 'display.precision', 5,):\n",
    "    print(sorted_df)"
   ]
  },
  {
   "cell_type": "markdown",
   "id": "recovered-shade",
   "metadata": {},
   "source": [
    "Given that I split the data into training and testing data and evaluated entirely on the testing data. I believe the model would perform with the same accuracy levels on the rest of the company's data. If the shared data is an accurate and random sample of the data as a whole, there would be no reason to think the model would perform qualitatively differently. \n",
    "\n",
    "As stated before the bootstrap method would be more sensitive in real world data and a different Z value cut off would be chosen. "
   ]
  },
  {
   "cell_type": "markdown",
   "id": "comparative-attack",
   "metadata": {},
   "source": [
    "### 2.4 Recommendations\n",
    "\n",
    "In light of the above questions the client is keen to know if they have collected the right data for their business needs. Make a maximum of 5 recommendations to the client for future data collection."
   ]
  },
  {
   "cell_type": "markdown",
   "id": "visible-invalid",
   "metadata": {},
   "source": [
    "1. I increased the Z value cut off to 50 to see how the model would do and as the evaluation below shows, the accuracy is still high. In general I would not recommend considering a Z value so high as 50, it is an extremely rigorous cut off and would almost never be used as a viable option for a real world model as it takes away too much information  For this reason, this experiment does not show that the deleted factors are un-informative, however it does suggest that the vast majority of predictive power lies within the variables displayed in the model3 below. My recommendation around this observation would be in general to pay most attention to these variables when collecting data, while still understanding that the deleted factors from model2 still can be important for many individual cases."
   ]
  },
  {
   "cell_type": "code",
   "execution_count": 19,
   "id": "velvet-belize",
   "metadata": {},
   "outputs": [],
   "source": [
    "# Removes any variable with a Z value above a prescribed level.\n",
    "for index, row in sorted_df.iterrows():\n",
    "    if row['Z Value'] < 50:\n",
    "        del dummyData[row['Features']]\n",
    "\n",
    "# Recreates the dummyData set with the new reduced set of features and splits it for model creation.\n",
    "X = dummyData.drop(['outcome'], axis = 1)\n",
    "Y = dummyData['outcome']\n",
    "\n",
    "X_train3, X_test3, Y_train3, Y_test3 = train_test_split(X, Y, random_state = 0)"
   ]
  },
  {
   "cell_type": "code",
   "execution_count": 20,
   "id": "chicken-tractor",
   "metadata": {},
   "outputs": [
    {
     "name": "stdout",
     "output_type": "stream",
     "text": [
      "Intercept:   -0.72836930015535\n",
      "                     Features   Coefs.     p-values  Mean Coefs.  Std. Error    Z Value  Relative Odds\n",
      "0            annual_mileage_2  0.39059  8.64512e-01      0.37222     0.00470   79.17490        8.63392\n",
      "1            annual_mileage_3  0.82855  2.35938e-27      0.82495     0.00684  120.57204       19.85726\n",
      "2            annual_mileage_4  1.89761  1.01192e-05      1.87196     0.01828  102.38766       43.27864\n",
      "3            annual_mileage_5  0.46885  1.05783e-01      0.40050     0.00632   63.39511        9.32066\n",
      "4   driving_experience_10-19y -2.05034  9.46016e-14     -2.06404     0.00355  581.64990      -26.78172\n",
      "5   driving_experience_20-29y -3.81261  5.89381e-98     -3.93325     0.00756  520.20941      -31.61900\n",
      "6     driving_experience_30y+ -4.46612  1.77562e-66     -4.38280     0.01054  415.86359      -31.95598\n",
      "7                 gender_male  0.98580  8.77407e-09      0.98037     0.00378  259.26441       23.71166\n",
      "8                married_True -0.49723  3.15275e-53     -0.46768     0.00421  111.13192       -9.33731\n",
      "9            past_accidents_2 -0.49160  3.43097e-07     -0.50049     0.00534   93.68086       -9.91707\n",
      "10          postal_code_21217  6.61232  5.26625e-41      6.74251     0.01497  450.29530       67.20093\n",
      "11          postal_code_32765  1.18536  5.17101e-09      1.14687     0.00456  251.63625       27.75725\n",
      "12          postal_code_92101  1.22346  1.73936e-04      1.32972     0.00913  145.61800       32.04133\n",
      "13     vehicle_ownership_True -1.82528  4.68710e-65     -1.86005     0.00449  414.24773      -25.56650\n",
      "14   vehicle_year_before 2015  1.90686  1.18624e-40      1.89378     0.00484  391.63026       43.67624\n"
     ]
    }
   ],
   "source": [
    "model3, sorted_df = createModel(X, Y)"
   ]
  },
  {
   "cell_type": "code",
   "execution_count": 21,
   "id": "african-mobility",
   "metadata": {},
   "outputs": [
    {
     "name": "stdout",
     "output_type": "stream",
     "text": [
      "Confusion Matrix:\n",
      "[[1399  145]\n",
      " [ 181  530]] \n",
      "\n",
      "True Positive Rate: 0.79\n",
      "True Negative Rate: 0.89\n",
      "False Positive Rate: 0.11\n",
      "False Negative Rate: 0.21 \n",
      "\n",
      "Overall Accuracy: 0.8554 \n",
      "\n",
      "              precision    recall  f1-score   support\n",
      "\n",
      "       False       0.89      0.91      0.90      1544\n",
      "        True       0.79      0.75      0.76       711\n",
      "\n",
      "    accuracy                           0.86      2255\n",
      "   macro avg       0.84      0.83      0.83      2255\n",
      "weighted avg       0.85      0.86      0.85      2255\n",
      "\n",
      "Log Loss: 0.3218 \n",
      "\n",
      "ROC Curve:\n"
     ]
    },
    {
     "data": {
      "image/png": "[encoded data removed]",
      "text/plain": [
       "<Figure size 432x288 with 1 Axes>"
      ]
     },
     "metadata": {
      "needs_background": "light"
     },
     "output_type": "display_data"
    }
   ],
   "source": [
    "evaluateModel(model3, X_test3, Y_test3)"
   ]
  },
  {
   "cell_type": "markdown",
   "id": "changed-sussex",
   "metadata": {},
   "source": [
    "2. Driving experience, vehicle year, age and income were all collected categorically. In each case there is no justification for the separation points of each category and they all seem quite arbitrary. Moreover in the case of income, the separation points are not even given, only a qualitative measure (low, medium, high, etc) is provided. It would be preferable to collect this data continuously. If each of these variables were continuous we could make our own decision as to whether to categorise them or not, and if so what the best cut offs for modelling would be. Additionally leaving them as continuous would simplify the model with fewer variables. All of these variables are significant predictors to some degree and being able to evaluate them more fully would certainly improve the model"
   ]
  },
  {
   "cell_type": "markdown",
   "id": "developing-button",
   "metadata": {},
   "source": [
    "3. Vehicle type seems to be close to irrelevant. This variable is heavily skewed with over 95% of the dataset having a sedan. Given that the alternative (sports car) seemed to be insignificant, this category is not helping with prediction, although I can imagine it might be needed for correct pricing. I would recommend either increasing the number of vehicle types (e.g 4x4, hatchback, etc.) to test if other types of car are significant, or change this factor to something else entirely (e.g vehicle make)."
   ]
  },
  {
   "cell_type": "markdown",
   "id": "artificial-degree",
   "metadata": {},
   "source": [
    "4. There is no data in the set on employment. Whether someone is employed or not, what job they have, do they drive for a living could all be relevant factors. You could imagine a rideshare driver, driving long hours in big cities could have a higher chance of making a claim. I would recommend creating a job category variable with different types of job as the values. Each separate job could not be its own factor, there would be too many distinct values. Unemployed should be its own factor within the job variable."
   ]
  },
  {
   "cell_type": "markdown",
   "id": "powered-bracelet",
   "metadata": {},
   "source": [
    "5. Logistic regression tests a variable's effect after other factors are taken into account. Becasue of the colinear nature of a lot of this dataset, some variables are not tested very well, to rectify this it would be useful to sample groups that are not so correlated. An example of this would be older drivers with very little driving experience, as of course age and driving experience are heavily related variables and there are not many data that fit into the suggested category. Of course this data is simply a list of customers and it may not be in the business interest of the company to seek those type of unique groups out. However from a statistical standpoint it would certainly improve the model to sample those data. "
   ]
  }
 ],
 "metadata": {
  "kernelspec": {
   "display_name": "Python 3",
   "language": "python",
   "name": "python3"
  },
  "language_info": {
   "codemirror_mode": {
    "name": "ipython",
    "version": 3
   },
   "file_extension": ".py",
   "mimetype": "text/x-python",
   "name": "python",
   "nbconvert_exporter": "python",
   "pygments_lexer": "ipython3",
   "version": "3.9.2"
  }
 },
 "nbformat": 4,
 "nbformat_minor": 5
}
