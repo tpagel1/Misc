{
 "cells": [
  {
   "cell_type": "markdown",
   "metadata": {},
   "source": [
    "# COMP90051 Project 2"
   ]
  },
  {
   "cell_type": "code",
   "execution_count": 48,
   "metadata": {},
   "outputs": [],
   "source": [
    "# Do not edit. These are the only imports permitted.\n",
    "import numpy as np\n",
    "from abc import ABC, abstractmethod\n",
    "from sklearn.tree import DecisionTreeClassifier   # for Task 4\n",
    "from sklearn.base import clone                    # optional for Task 4\n",
    "import matplotlib.pyplot as plt                   # for Task 5\n",
    "from sklearn.metrics.pairwise import rbf_kernel   # for Task 6"
   ]
  },
  {
   "cell_type": "code",
   "execution_count": 49,
   "metadata": {},
   "outputs": [],
   "source": [
    "class MAB(ABC):\n",
    "    \"\"\"Base class for a contextual multi-armed bandit (MAB)\n",
    "    \n",
    "    Parameters\n",
    "    ----------\n",
    "    n_arms : int\n",
    "        Number of arms.\n",
    "    \"\"\"\n",
    "    def __init__(self, n_arms):\n",
    "        if not np.issubdtype(type(n_arms), np.integer):\n",
    "            raise TypeError(\"`n_arms` must be an integer\")\n",
    "        if not n_arms >= 0:\n",
    "            raise ValueError(\"`n_arms` must be non-negative\")\n",
    "        self.n_arms = n_arms\n",
    "        # your code here (if you like)\n",
    "        \n",
    "    @abstractmethod\n",
    "    def play(self, context):\n",
    "        \"\"\"Play a round\n",
    "        \n",
    "        Parameters\n",
    "        ----------        \n",
    "        context : float numpy.ndarray, shape (n_arms, n_dims), optional\n",
    "            An array of context vectors presented to the MAB. The 0-th \n",
    "            axis indexes the arms, and the 1-st axis indexes the features.\n",
    "            Non-contextual bandits accept a context of None.\n",
    "        \n",
    "        Returns\n",
    "        -------\n",
    "        arm : int\n",
    "            Integer index of the arm played this round. Should be in the set \n",
    "            {0, ..., n_arms - 1}.\n",
    "        \"\"\"\n",
    "        # your code here (if you like)\n",
    "    \n",
    "    @abstractmethod\n",
    "    def update(self, arm, reward, context):\n",
    "        \"\"\"Update the internal state of the MAB after a play\n",
    "        \n",
    "        Parameters\n",
    "        ----------\n",
    "        arm : int\n",
    "            Integer index of the played arm in the set {0, ..., n_arms - 1}.\n",
    "        \n",
    "        reward : float\n",
    "            Reward received from the arm.\n",
    "        \n",
    "        context : float numpy.ndarray, shape (n_arms, n_dims), optional\n",
    "            An array of context vectors that was presented to the MAB. The \n",
    "            0-th axis indexes the arms, and the 1-st axis indexes the \n",
    "            features. Non-contextual bandits accept a context of None. \n",
    "        \"\"\"\n",
    "        # your code here (if you like)"
   ]
  },
  {
   "cell_type": "code",
   "execution_count": 50,
   "metadata": {},
   "outputs": [],
   "source": [
    "# Define global functions here, if required"
   ]
  },
  {
   "cell_type": "markdown",
   "metadata": {},
   "source": [
    "## 1. Implement ε-greedy and UCB MABs"
   ]
  },
  {
   "cell_type": "code",
   "execution_count": 51,
   "metadata": {},
   "outputs": [],
   "source": [
    "class EpsGreedy(MAB):\n",
    "    \"\"\"Epsilon-Greedy multi-armed bandit\n",
    "\n",
    "    Parameters\n",
    "    ----------\n",
    "    n_arms : int\n",
    "        Number of arms\n",
    "\n",
    "    epsilon : float\n",
    "        Explore probability. Must be in the interval [0, 1].\n",
    "\n",
    "    Q0 : float, default=np.inf\n",
    "        Initial value for the arms.\n",
    "    \"\"\"\n",
    "    def __init__(self, n_arms, epsilon, Q0=np.inf):\n",
    "        super().__init__(n_arms)\n",
    "        self.tot_rewards=[0]*n_arms\n",
    "        self.tot_plays=[0]*n_arms\n",
    "        self.Q0=Q0 \n",
    "        self.n_arms=n_arms\n",
    "        self.epsilon=epsilon \n",
    "    \n",
    "    def play(self, t_round, context=None):\n",
    "        super().play(context)\n",
    "\n",
    "        if (np.random.random() <= self.epsilon):\n",
    "            return np.random.randint(1,self.n_arms + 1)\n",
    "        else:\n",
    "            best_val=0\n",
    "            best_arm=[]\n",
    "            for arm in range(self.n_arms):\n",
    "\n",
    "                if self.tot_plays[arm]==0:\n",
    "                    arm_val=self.Q0\n",
    "                else:\n",
    "                    arm_val=self.tot_rewards[arm]/self.tot_plays[arm]\n",
    "\n",
    "                if best_val<arm_val:\n",
    "                    best_val=arm_val\n",
    "                    best_arm=[arm]\n",
    "\n",
    "                if arm_val == best_val:\n",
    "                    best_arm.append(arm)\n",
    "\n",
    "            if len(best_arm)==1:\n",
    "                return best_arm[0]  \n",
    "\n",
    "            else:\n",
    "                return np.random.choice(best_arm)  \n",
    "            \n",
    "    def update(self, arm, reward, context=None):\n",
    "        super().update(arm, reward, context)\n",
    "        self.tot_rewards[arm]+=reward\n",
    "        self.tot_plays[arm]+=1"
   ]
  },
  {
   "cell_type": "code",
   "execution_count": 52,
   "metadata": {},
   "outputs": [],
   "source": [
    "class UCB(MAB):\n",
    "    \"\"\"Upper Confidence Bound (UCB) multi-armed bandit\n",
    "\n",
    "    Parameters\n",
    "    ----------\n",
    "    n_arms : int\n",
    "        Number of arms.\n",
    "\n",
    "    rho : float\n",
    "        Positive real explore-exploit parameter.\n",
    "\n",
    "    Q0 : float, default=np.inf\n",
    "        Initial value for the arms.\n",
    "    \"\"\"\n",
    "    def __init__(self, n_arms, rho, Q0=np.inf):\n",
    "        super().__init__(n_arms)\n",
    "        \n",
    "        self.tot_rewards=[0]*n_arms\n",
    "        self.tot_plays=[0]*n_arms\n",
    "        self.Q0=Q0\n",
    "        self.n_arms=n_arms\n",
    "        self.rho=rho\n",
    "                \n",
    "    def play(self, t_round, context=None):\n",
    "        super().play(context)\n",
    "        # used to keep track of the highest value arms\n",
    "        best_val=0\n",
    "        best_arm=[]\n",
    "\n",
    "        for arm in range(self.n_arms):\n",
    "            if self.tot_plays[arm]==0:\n",
    "                arm_val=self.Q0\n",
    "            else:\n",
    "                ucb=np.sqrt(self.rho*np.log(t_round)/self.tot_plays[arm])\n",
    "                arm_val=(self.tot_rewards[arm]/self.tot_plays[arm])+ucb\n",
    "                \n",
    "            if best_val<arm_val:\n",
    "                best_val=arm_val\n",
    "                best_arm=[arm]\n",
    "\n",
    "            if arm_val==best_val:\n",
    "                best_arm.append(arm)\n",
    "\n",
    "        if len(best_arm)==1:\n",
    "            return best_arm[0] \n",
    "\n",
    "        else:\n",
    "            return np.random.choice(best_arm) \n",
    "        \n",
    "        \n",
    "    def update(self, arm, reward, context=None):\n",
    "        super().update(arm, reward, context)\n",
    "        self.tot_rewards[arm]+=reward\n",
    "        self.tot_plays[arm]+=1"
   ]
  },
  {
   "cell_type": "markdown",
   "metadata": {},
   "source": [
    "## 2. Implement off-policy evaluation"
   ]
  },
  {
   "cell_type": "code",
   "execution_count": 53,
   "metadata": {},
   "outputs": [],
   "source": [
    "def offlineEvaluate(mab, arms, rewards, contexts, n_rounds=None):\n",
    "    \"\"\"Offline evaluation of a multi-armed bandit\n",
    "    \n",
    "    Parameters\n",
    "    ----------\n",
    "    mab : instance of MAB\n",
    "        MAB to evaluate.\n",
    "    \n",
    "    arms : integer numpy.ndarray, shape (n_events,) \n",
    "        Array containing the history of pulled arms, represented as integer \n",
    "        indices in the set {0, ..., mab.n_arms}\n",
    "    \n",
    "    rewards : float numpy.ndarray, shape (n_events,)\n",
    "        Array containing the history of rewards.\n",
    "    \n",
    "    contexts : float numpy.ndarray, shape (n_events, n_arms, n_dims)\n",
    "        Array containing the history of contexts presented to the arms. \n",
    "        The 0-th axis indexes the events in the history, the 1-st axis \n",
    "        indexes the arms and the 2-nd axis indexed the features.\n",
    "        \n",
    "    n_rounds : int, default=None\n",
    "        Number of matching events to evaluate the MAB on. If None, \n",
    "        continue evaluating until the historical events are exhausted.\n",
    "    \n",
    "    Returns\n",
    "    -------\n",
    "    out : float numpy.ndarray\n",
    "        Rewards for the matching events.\n",
    "    \"\"\"\n",
    "    rewardList=[]\n",
    "    t_round=0 \n",
    "    for i in range(len(contexts)):\n",
    "        arm=mab.play(t_round,contexts[i])\n",
    "\n",
    "        if arms[i]==arm:\n",
    "            rewardList.append(rewards[i])\n",
    "            mab.update(arms[i],rewards[i],contexts[i])\n",
    "            t_round += 1\n",
    "            \n",
    "        if t_round==n_rounds:\n",
    "            break          \n",
    "                \n",
    "    return rewardList"
   ]
  },
  {
   "cell_type": "code",
   "execution_count": 54,
   "metadata": {},
   "outputs": [],
   "source": [
    "# load dataset here\n",
    "data=np.loadtxt('dataset.txt', dtype=int)\n",
    "arms=data[:,0]\n",
    "rewards=data[:,1]      \n",
    "contexts=data[:,2:102]"
   ]
  },
  {
   "cell_type": "code",
   "execution_count": 55,
   "metadata": {},
   "outputs": [
    {
     "name": "stdout",
     "output_type": "stream",
     "text": [
      "EpsGreedy average reward 0.2675\n"
     ]
    }
   ],
   "source": [
    "mab = EpsGreedy(10, 0.05)\n",
    "results_EpsGreedy = offlineEvaluate(mab, arms, rewards, contexts, 800)\n",
    "print('EpsGreedy average reward', np.mean(results_EpsGreedy))"
   ]
  },
  {
   "cell_type": "code",
   "execution_count": 59,
   "metadata": {},
   "outputs": [
    {
     "name": "stdout",
     "output_type": "stream",
     "text": [
      "UCB average reward 0.165\n"
     ]
    }
   ],
   "source": [
    "mab = UCB(10, 1.0)\n",
    "results_UCB = offlineEvaluate(mab, arms, rewards, contexts, 800)\n",
    "print('UCB average reward', np.mean(results_UCB))"
   ]
  },
  {
   "cell_type": "markdown",
   "metadata": {},
   "source": [
    "## 3. Implement LinUCB contextual MAB"
   ]
  },
  {
   "cell_type": "code",
   "execution_count": 60,
   "metadata": {},
   "outputs": [],
   "source": [
    "class LinUCB(MAB):\n",
    "    \"\"\"Contextual multi-armed bandit (LinUCB)\n",
    "\n",
    "    Parameters\n",
    "    ----------\n",
    "    n_arms : int\n",
    "        Number of arms.\n",
    "\n",
    "    n_dims : int\n",
    "        Number of features for each arm's context.\n",
    "\n",
    "    alpha : float\n",
    "        Positive real explore-exploit parameter.\n",
    "    \"\"\"\n",
    "    def __init__(self, n_arms, n_dims, alpha):\n",
    "        super().__init__(n_arms) \n",
    "        self.n_arms=n_arms\n",
    "        self.arms_A=[np.identity(n_dims)]*n_arms \n",
    "        self.arms_b=[np.zeros((n_dims,1))]*n_arms\n",
    "        self.alpha=alpha\n",
    "           \n",
    "    def play(self, t_round, context):\n",
    "        super().play(context)\n",
    "        arm_context = np.split(context,self.n_arms)\n",
    "        best_val=float(\"-inf\")\n",
    "        best_arm=[]\n",
    "\n",
    "        for arm in range(self.n_arms):\n",
    "            linucb=self.alpha*np.sqrt([arm_context[arm]]@np.linalg.inv(self.arms_A[arm])@np.transpose([arm_context[arm]]))\n",
    "            theta_a=np.linalg.inv(self.arms_A[arm])@self.arms_b[arm]\n",
    "            arm_val=np.transpose(theta_a)@np.transpose([arm_context[arm]])+linucb\n",
    "                \n",
    "            if best_val<arm_val:\n",
    "                best_val=arm_val\n",
    "                best_arm=[arm]\n",
    "\n",
    "            if arm_val==best_val:\n",
    "                best_arm.append(arm)\n",
    "                \n",
    "        if len(best_arm)==1:\n",
    "            return best_arm[0] \n",
    "\n",
    "        else:\n",
    "            return np.random.choice(best_arm)\n",
    "            \n",
    "    \n",
    "    def update(self, arm, reward, context):\n",
    "        super().update(arm, reward, context)\n",
    "        arm_context=np.split(context,self.n_arms)\n",
    "        \n",
    "        self.arms_A[arm]=self.arms_A[arm]+np.transpose([arm_context[arm]])@[arm_context[arm]] \n",
    "        self.arms_b[arm]=self.arms_b[arm]+reward*np.transpose([arm_context[arm]])"
   ]
  },
  {
   "cell_type": "code",
   "execution_count": 61,
   "metadata": {},
   "outputs": [
    {
     "name": "stdout",
     "output_type": "stream",
     "text": [
      "LinUCB average reward 0.53\n"
     ]
    }
   ],
   "source": [
    "mab = LinUCB(10, 10, 1.0)\n",
    "results_LinUCB = offlineEvaluate(mab, arms, rewards, contexts, 800)\n",
    "print('LinUCB average reward', np.mean(results_LinUCB))"
   ]
  },
  {
   "cell_type": "markdown",
   "metadata": {},
   "source": [
    "## 4. Implement TreeBootstrap contextual MAB"
   ]
  },
  {
   "cell_type": "code",
   "execution_count": 46,
   "metadata": {},
   "outputs": [],
   "source": [
    "class TreeBootstrap(MAB):\n",
    "    \"\"\"Contextual Thompson sampled multi-armed bandit (TreeBootstrap)\n",
    "\n",
    "    Parameters\n",
    "    ----------\n",
    "    n_arms : int\n",
    "        Number of arms.\n",
    "\n",
    "    n_dims : int\n",
    "        Number of features for each arm's context.\n",
    "\n",
    "    tree : instance of sklearn.tree.DecisionTreeClassifier, optional\n",
    "        Decision tree to use for predicting the expected future reward. \n",
    "        Defaults to sklearn.tree.DecisionTreeClassifier().\n",
    "    \"\"\"\n",
    "    def __init__(self, n_arms, n_dims, tree=DecisionTreeClassifier()):\n",
    "        super().__init__(n_arms)\n",
    "        self.n_arms=n_arms  \n",
    "        self.tot_plays=[0]*n_arms\n",
    "        self.D_ta ={}\n",
    "        for arm in range(n_arms):\n",
    "            self.D_ta[arm]=[]\n",
    "        \n",
    "    def play(self,t_round, context):\n",
    "        super().play(context)\n",
    "        best_val=float(\"-inf\")\n",
    "        best_arm=[] \n",
    "        \n",
    "        for arm in range(self.n_arms):\n",
    "            if self.tot_plays[arm]==0:\n",
    "                arm_val=1\n",
    "            else:\n",
    "                target=[]\n",
    "                inputs=[]\n",
    "                n=len(self.D_ta[arm])\n",
    "                for num in range(n):\n",
    "                    i=np.random.randint(n)\n",
    "                    bootstrap=self.D_ta[arm][i]\n",
    "                    target.append(bootstrap[1])\n",
    "                    split=np.split(bootstrap[2:],self.n_arms)\n",
    "                    inputs.append(split[arm])\n",
    "                    \n",
    "                model=DecisionTreeClassifier()\n",
    "                model.fit(inputs, target)\n",
    "                \n",
    "                arm_context = np.split(context,self.n_arms)\n",
    "                arm_val=model.predict([arm_context[arm]])\n",
    "            if best_val<arm_val:\n",
    "                best_val=arm_val\n",
    "                best_arm=[arm]\n",
    "            \n",
    "            if arm_val==best_val:\n",
    "                best_arm.append(arm)\n",
    "                \n",
    "        if len(best_arm)==1:\n",
    "            return best_arm[0] \n",
    "\n",
    "        else:\n",
    "            return np.random.choice(best_arm)\n",
    "            \n",
    "        \n",
    "    def update(self, arm, reward, context):\n",
    "        super().update(arm, reward, context)\n",
    "        a=np.concatenate((arm,reward,context), axis=None)\n",
    "        self.D_ta[arm].append(a)\n",
    "        self.tot_plays[arm]+=1\n",
    "        "
   ]
  },
  {
   "cell_type": "code",
   "execution_count": 47,
   "metadata": {},
   "outputs": [
    {
     "name": "stdout",
     "output_type": "stream",
     "text": [
      "TreeBootstrap average reward 0.7\n"
     ]
    }
   ],
   "source": [
    "mab = TreeBootstrap(10, 10)\n",
    "results_TreeBootstrap = offlineEvaluate(mab, arms, rewards, contexts, 800)\n",
    "print('TreeBootstrap average reward', np.mean(results_TreeBootstrap))"
   ]
  },
  {
   "cell_type": "markdown",
   "metadata": {},
   "source": [
    "## 5. Evaluation and hyperparameter tuning for LinUCB\n",
    "### 5.A."
   ]
  },
  {
   "cell_type": "code",
   "execution_count": 65,
   "metadata": {},
   "outputs": [
    {
     "data": {
      "text/plain": [
       "Text(0.5,0,'Round')"
      ]
     },
     "execution_count": 65,
     "metadata": {},
     "output_type": "execute_result"
    },
    {
     "data": {
      "image/png": "[encoded data removed]",
      "text/plain": [
       "<Figure size 432x288 with 1 Axes>"
      ]
     },
     "metadata": {
      "needs_background": "light"
     },
     "output_type": "display_data"
    }
   ],
   "source": [
    "rounds=range(800)\n",
    "\n",
    "plt.plot(rounds,np.cumsum(results_EpsGreedy),'r', label=\"EpsGreedy\")\n",
    "plt.plot(rounds,np.cumsum(results_UCB),'b',label=\"UCB\")\n",
    "plt.plot(rounds,np.cumsum(results_LinUCB),'c',label=\"LinUCB\")\n",
    "plt.plot(rounds,np.cumsum(results_TreeBootstrap),'g',label=\"TreeBootstrap\")\n",
    "plt.legend(loc='upper left')\n",
    "plt.ylabel(\"Cumulative Reward\")\n",
    "plt.xlabel(\"Round\")"
   ]
  },
  {
   "cell_type": "markdown",
   "metadata": {},
   "source": [
    "### 5.B."
   ]
  },
  {
   "cell_type": "code",
   "execution_count": 67,
   "metadata": {},
   "outputs": [
    {
     "data": {
      "image/png": "[encoded data removed]",
      "text/plain": [
       "<Figure size 432x288 with 1 Axes>"
      ]
     },
     "metadata": {
      "needs_background": "light"
     },
     "output_type": "display_data"
    }
   ],
   "source": [
    "def grid_search(grid):\n",
    "    list=[]\n",
    "    for num in grid:\n",
    "        print(num)\n",
    "        result=offlineEvaluate(LinUCB(10, 10, num), arms, rewards, contexts, 800)\n",
    "        result_mean=np.mean(result)\n",
    "        list.append(result_mean)\n",
    "        \n",
    "    plt.plot(grid,list)\n",
    "    plt.ylabel(\"Avg Reward\")\n",
    "    plt.xlabel(r'$\\alpha$')\n",
    "\n",
    "grid=np.linspace(0.5,10,21)\n",
    "grid_search(grid)"
   ]
  },
  {
   "cell_type": "code",
   "execution_count": 224,
   "metadata": {},
   "outputs": [
    {
     "data": {
      "image/png": "[encoded data removed]",
      "text/plain": [
       "<Figure size 432x288 with 1 Axes>"
      ]
     },
     "metadata": {
      "needs_background": "light"
     },
     "output_type": "display_data"
    }
   ],
   "source": [
    "grid=np.linspace(0,2,10)\n",
    "grid_search(grid)"
   ]
  },
  {
   "cell_type": "code",
   "execution_count": 178,
   "metadata": {},
   "outputs": [],
   "source": [
    "##This result suggests the optimal alpha is around 0.2"
   ]
  },
  {
   "cell_type": "markdown",
   "metadata": {},
   "source": [
    "## 6. Implement KernelUCB contextual MAB"
   ]
  },
  {
   "cell_type": "code",
   "execution_count": null,
   "metadata": {},
   "outputs": [],
   "source": []
  },
  {
   "cell_type": "code",
   "execution_count": null,
   "metadata": {},
   "outputs": [],
   "source": [
    "class KernelUCB(MAB):\n",
    "    \"\"\"Kernelised contextual multi-armed bandit (Kernelised LinUCB)\n",
    "    \n",
    "    Parameters\n",
    "    ----------\n",
    "    n_arms : int\n",
    "        Number of arms.\n",
    "\n",
    "    n_dims : int\n",
    "        Number of features for each arm's context.\n",
    "\n",
    "    gamma : float\n",
    "        Positive real explore-exploit parameter.\n",
    "    \n",
    "    eta : float\n",
    "        Positive real explore-exploit parameter.\n",
    "    \n",
    "    kern : callable\n",
    "        A kernel function from sklearn.metrics.pairwise.\n",
    "    \"\"\"\n",
    "    def __init__(self, n_arms, n_dims, gamma, eta, kern):\n",
    "        super().__init__(n_arms)\n",
    "        # your code here\n",
    "        \n",
    "    def play(self, context):\n",
    "        super().play(context)\n",
    "        # your code here\n",
    "    \n",
    "    def update(self, arm, reward, context):\n",
    "        super().update(arm, reward, context)\n",
    "        # your code here"
   ]
  },
  {
   "cell_type": "code",
   "execution_count": null,
   "metadata": {},
   "outputs": [],
   "source": [
    "mab = KernelUCB(10, 10, 1.0, 0.1, rbf_kernel)\n",
    "results_KernelUCB = offlineEvaluate(mab, arms, rewards, contexts, 800)\n",
    "print('KernelUCB average reward', np.mean(results_KernelUCB))"
   ]
  },
  {
   "cell_type": "code",
   "execution_count": null,
   "metadata": {},
   "outputs": [],
   "source": [
    "# your plotting code here"
   ]
  }
 ],
 "metadata": {
  "kernelspec": {
   "display_name": "Python 3",
   "language": "python",
   "name": "python3"
  },
  "language_info": {
   "codemirror_mode": {
    "name": "ipython",
    "version": 3
   },
   "file_extension": ".py",
   "mimetype": "text/x-python",
   "name": "python",
   "nbconvert_exporter": "python",
   "pygments_lexer": "ipython3",
   "version": "3.6.5"
  }
 },
 "nbformat": 4,
 "nbformat_minor": 4
}
